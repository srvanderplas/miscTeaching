{
 "metadata": {
  "name": "",
  "signature": "sha256:62ac02862007a18fee45c7a367b8f4690c8b9fcc0b3ec78f1a88760e38dffb50"
 },
 "nbformat": 3,
 "nbformat_minor": 0,
 "worksheets": [
  {
   "cells": [
    {
     "cell_type": "markdown",
     "metadata": {},
     "source": [
      "<h2>Sample-based approximations to expectations</h2>\n",
      "<p>We will try and compute the expected value of $y^2$ where $y\\sim U(0,1)$, i.e.\n",
      "$$ E_{p(y)}(y^2) $$\n",
      "Analytically, we can compute the value as:\n",
      "$$ E_{p(y)}(y^2) = \\int_{0}^1 y^2 p(y) ~dy = \\int_{0}^1 y^2~dy = \\left[\\frac{1}{3}y^3 \\right]_0^1 = \\frac{1}{3} $$\n",
      "To compute a sample based approximation, we will draw samples from $U(0,1)$, square them, and compute the average.\n",
      "</p>"
     ]
    },
    {
     "cell_type": "code",
     "collapsed": false,
     "input": [
      "import numpy as np\n",
      "maxN = 1000;\n",
      "u = np.random.rand(maxN,1)**2\n",
      "expected_val = np.zeros((maxN-1,1))\n",
      "for i in np.arange(maxN-1):\n",
      "    expected_val[i] = u[0:i+1].mean()"
     ],
     "language": "python",
     "metadata": {},
     "outputs": [],
     "prompt_number": 1
    },
    {
     "cell_type": "markdown",
     "metadata": {},
     "source": [
      "<p>Plot the evolution of the expectation.</p>"
     ]
    },
    {
     "cell_type": "code",
     "collapsed": false,
     "input": [
      "import pylab as plt\n",
      "%matplotlib inline\n",
      "plt.plot(np.arange(maxN-1),expected_val)\n",
      "plt.plot([0,maxN-1],[1.0/3.0,1.0/3.0],'k--')\n",
      "plt.xlabel('Number of samples')\n",
      "plt.ylabel('Expected value of $y^2$')"
     ],
     "language": "python",
     "metadata": {},
     "outputs": [
      {
       "metadata": {},
       "output_type": "pyout",
       "prompt_number": 2,
       "text": [
        "<matplotlib.text.Text at 0x10f576650>"
       ]
      },
      {
       "metadata": {},
       "output_type": "display_data",
       "png": "[encoded data removed]",
       "text": [
        "<matplotlib.figure.Figure at 0x10f47c390>"
       ]
      }
     ],
     "prompt_number": 2
    },
    {
     "cell_type": "code",
     "collapsed": false,
     "input": [],
     "language": "python",
     "metadata": {},
     "outputs": [],
     "prompt_number": 2
    }
   ],
   "metadata": {}
  }
 ]
}