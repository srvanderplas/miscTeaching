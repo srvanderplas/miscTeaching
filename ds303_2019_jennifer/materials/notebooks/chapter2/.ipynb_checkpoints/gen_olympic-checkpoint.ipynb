{
 "metadata": {
  "name": "",
  "signature": "sha256:993df4dccddb0783ef51a869b298b5b4a335a0d74d63079b9f3a6965a9ceb558"
 },
 "nbformat": 3,
 "nbformat_minor": 0,
 "worksheets": [
  {
   "cells": [
    {
     "cell_type": "markdown",
     "metadata": {},
     "source": [
      "<h2>Generative model for the Olympic 100m</h2>\n",
      "<p>We will now look at generating data that looks a bit like the Olympic 100m data. We'll start by getting the data.</p>"
     ]
    },
    {
     "cell_type": "code",
     "collapsed": false,
     "input": [
      "import urllib\n",
      "urllib.urlretrieve('https://github.com/sdrogers/fcml/raw/master/notebooks/data/olympic100m.txt', 'olympic100m.txt')\n",
      "import numpy as np\n",
      "data = np.loadtxt('olympic100m.txt',delimiter=',')\n",
      "x = data[:,0][:,None]\n",
      "t = data[:,1][:,None]"
     ],
     "language": "python",
     "metadata": {},
     "outputs": [],
     "prompt_number": 1
    },
    {
     "cell_type": "markdown",
     "metadata": {},
     "source": [
      "<p>We'll assume that we know the true parameter values and look at generating the noise. We'll get the true parameter values by minimising the loss...</p>"
     ]
    },
    {
     "cell_type": "code",
     "collapsed": false,
     "input": [
      "import numpy as np\n",
      "X = np.hstack((np.ones_like(x),x))\n",
      "w = np.dot(np.linalg.inv(np.dot(X.T,X)),np.dot(X.T,t))\n",
      "print w"
     ],
     "language": "python",
     "metadata": {},
     "outputs": [
      {
       "output_type": "stream",
       "stream": "stdout",
       "text": [
        "[[  3.64164559e+01]\n",
        " [ -1.33308857e-02]]\n"
       ]
      }
     ],
     "prompt_number": 2
    },
    {
     "cell_type": "markdown",
     "metadata": {},
     "source": [
      "<p>Choose values for the mean and variance of the noise</p>"
     ]
    },
    {
     "cell_type": "code",
     "collapsed": false,
     "input": [
      "mu = 0.0\n",
      "sigma_sq = 0.05"
     ],
     "language": "python",
     "metadata": {},
     "outputs": [],
     "prompt_number": 3
    },
    {
     "cell_type": "markdown",
     "metadata": {},
     "source": [
      "<p>Generate the noisy t values (note that `numpy.random.normal` requires the standard deviation, not the variance)</p>"
     ]
    },
    {
     "cell_type": "code",
     "collapsed": false,
     "input": [
      "noisy_t = np.dot(X,w) + np.random.normal(mu,np.sqrt(sigma_sq),(t.size,1))"
     ],
     "language": "python",
     "metadata": {},
     "outputs": [],
     "prompt_number": 4
    },
    {
     "cell_type": "markdown",
     "metadata": {},
     "source": [
      "<p>Plot the noisy data</p>"
     ]
    },
    {
     "cell_type": "code",
     "collapsed": false,
     "input": [
      "import pylab as plt\n",
      "%matplotlib inline\n",
      "plt.plot(x,noisy_t,'ko')\n",
      "plt.plot(x,np.dot(X,w),'b')"
     ],
     "language": "python",
     "metadata": {},
     "outputs": [
      {
       "metadata": {},
       "output_type": "pyout",
       "prompt_number": 5,
       "text": [
        "[<matplotlib.lines.Line2D at 0x106c80c50>]"
       ]
      },
      {
       "metadata": {},
       "output_type": "display_data",
       "png": "[encoded data removed]",
       "text": [
        "<matplotlib.figure.Figure at 0x106c6bdd0>"
       ]
      }
     ],
     "prompt_number": 5
    },
    {
     "cell_type": "markdown",
     "metadata": {},
     "source": [
      "<p>A second plot, this time with the real data included</p>"
     ]
    },
    {
     "cell_type": "code",
     "collapsed": false,
     "input": [
      "import pylab as plt\n",
      "%matplotlib inline\n",
      "plt.plot(x,noisy_t,'ko')\n",
      "plt.plot(x,np.dot(X,w),'b')\n",
      "plt.plot(x,t,'ro')"
     ],
     "language": "python",
     "metadata": {},
     "outputs": [
      {
       "metadata": {},
       "output_type": "pyout",
       "prompt_number": 6,
       "text": [
        "[<matplotlib.lines.Line2D at 0x106e31b10>]"
       ]
      },
      {
       "metadata": {},
       "output_type": "display_data",
       "png": "[encoded data removed]",
       "text": [
        "<matplotlib.figure.Figure at 0x106d76350>"
       ]
      }
     ],
     "prompt_number": 6
    }
   ],
   "metadata": {}
  }
 ]
}