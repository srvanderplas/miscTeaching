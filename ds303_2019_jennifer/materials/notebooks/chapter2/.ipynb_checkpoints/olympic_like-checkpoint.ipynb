{
 "metadata": {
  "name": "",
  "signature": "sha256:044ec1ff607dca80b52fe7188a4f423bb33069849d25597cd8e5564bef76fa5e"
 },
 "nbformat": 3,
 "nbformat_minor": 0,
 "worksheets": [
  {
   "cells": [
    {
     "cell_type": "markdown",
     "metadata": {},
     "source": [
      "<h2>Change in likelihood of training data as model order is increased</h2>\n",
      "<p>We will now see how the likelihood changes as we make the model more complex. To avoid numerical problems, we will first re-scale $x$.</p>"
     ]
    },
    {
     "cell_type": "code",
     "collapsed": false,
     "input": [
      "import urllib\n",
      "urllib.urlretrieve('https://github.com/sdrogers/fcml/raw/master/notebooks/data/olympic100m.txt', 'olympic100m.txt')\n",
      "import numpy as np\n",
      "data = np.loadtxt('olympic100m.txt',delimiter=',')\n",
      "x = data[:,0][:,None]\n",
      "t = data[:,1][:,None]\n",
      "x = (x - x[0])/4.0"
     ],
     "language": "python",
     "metadata": {},
     "outputs": [],
     "prompt_number": 1
    },
    {
     "cell_type": "code",
     "collapsed": false,
     "input": [
      "import numpy as np\n",
      "\n",
      "def loggausspdf(x,mu,sig_sq):\n",
      "    const = -0.5*np.log(2.0*np.pi) - 0.5*np.log(sig_sq)\n",
      "    return const - (1.0/(2*sig_sq))*(x-mu)**2\n",
      "\n",
      "X = np.ones_like(x)\n",
      "maxOrder = 7\n",
      "L = np.zeros((maxOrder+1,1))\n",
      "for i in np.arange(maxOrder+1):\n",
      "    w = np.dot(np.linalg.inv(np.dot(X.T,X)),np.dot(X.T,t))\n",
      "    sig_sq = ((t-np.dot(X,w))**2).mean()\n",
      "    L[i] = loggausspdf(t,np.dot(X,w),sig_sq).sum()\n",
      "    X = np.hstack((X,x**(i+1)))"
     ],
     "language": "python",
     "metadata": {},
     "outputs": [],
     "prompt_number": 2
    },
    {
     "cell_type": "markdown",
     "metadata": {},
     "source": [
      "<p>Plot the likelihood</p>"
     ]
    },
    {
     "cell_type": "code",
     "collapsed": false,
     "input": [
      "import pylab as plt\n",
      "%matplotlib inline\n",
      "plt.plot(np.arange(maxOrder+1),L)\n",
      "plt.xlabel('Polynomial order')\n",
      "plt.ylabel('Likelihood on training data')"
     ],
     "language": "python",
     "metadata": {},
     "outputs": [
      {
       "metadata": {},
       "output_type": "pyout",
       "prompt_number": 3,
       "text": [
        "<matplotlib.text.Text at 0x107005290>"
       ]
      },
      {
       "metadata": {},
       "output_type": "display_data",
       "png": "[encoded data removed]",
       "text": [
        "<matplotlib.figure.Figure at 0x106f05f50>"
       ]
      }
     ],
     "prompt_number": 3
    },
    {
     "cell_type": "markdown",
     "metadata": {},
     "source": [
      "<p>It can be seen from the plot that the likelihood increases as the polynomial order increases.</p>"
     ]
    },
    {
     "cell_type": "code",
     "collapsed": false,
     "input": [],
     "language": "python",
     "metadata": {},
     "outputs": [],
     "prompt_number": 3
    }
   ],
   "metadata": {}
  }
 ]
}